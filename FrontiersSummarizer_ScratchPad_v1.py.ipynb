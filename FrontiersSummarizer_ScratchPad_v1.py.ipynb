{
 "cells": [
  {
   "cell_type": "markdown",
   "id": "9fdb2de9",
   "metadata": {},
   "source": [
    "# Frontiers Summarizer Scratch Pad"
   ]
  },
  {
   "cell_type": "markdown",
   "id": "92ee490f",
   "metadata": {},
   "source": [
    "### Content\n",
    "1) Packages and Modules\n",
    "2) Extracting Relevant Text and Image URLs\n",
    "3) Involving OpenAI\n",
    "4) OpenAI Model Comparison"
   ]
  },
  {
   "cell_type": "markdown",
   "id": "3c7f759b",
   "metadata": {},
   "source": [
    "### 1) Packages and Modules"
   ]
  },
  {
   "cell_type": "code",
   "execution_count": 1,
   "id": "40a04f87",
   "metadata": {},
   "outputs": [],
   "source": [
    "#Creating connection with websites:\n",
    "import requests\n",
    "\n",
    "#Regex operations for data cleaning:\n",
    "import re\n",
    "\n",
    "#Extracting relevant items from html:\n",
    "from bs4 import BeautifulSoup\n",
    "\n",
    "#Connecting with OpenAI:\n",
    "import openai\n",
    "\n",
    "#Importing api_key:\n",
    "from open_ai_key import OPENAI_API_KEY"
   ]
  },
  {
   "cell_type": "markdown",
   "id": "c80b15d3",
   "metadata": {},
   "source": [
    "### 2) Extracting Relevant Text and Image URLs"
   ]
  },
  {
   "cell_type": "code",
   "execution_count": 2,
   "id": "1f6d0ca9",
   "metadata": {},
   "outputs": [],
   "source": [
    "class Extract_Clean:\n",
    "    \n",
    "    def __init__(self, url):\n",
    "        \"\"\"Add various settings: type of paper, rating, views...etc\"\"\"\n",
    "        self.url = url\n",
    "    \n",
    "    def request(self):\n",
    "        response = requests.get(self.url)\n",
    "        if response.status_code!=200:\n",
    "            print(\"The request to the url could not be made.\\nPlease check if your link is correct and it works in your browser.\")\n",
    "        else:\n",
    "            print(\"Successfully retrieved information from the url.\")\n",
    "            soup = BeautifulSoup(response.text, 'html.parser')\n",
    "            return soup\n",
    "        \n",
    "    def extract_main_body(self):\n",
    "        main_text = self.request().find_all('p', ['mb15','mb0'])\n",
    "        return main_text\n",
    "    \n",
    "    def extract_abstract(self):\n",
    "        try:\n",
    "            if self.request().find('div','JournalAbstract').find('p')==None:\n",
    "                abstract = self.request().find('div','JournalAbstract').find('div','abstracttext')\n",
    "            else:\n",
    "                abstract = self.request().find('div','JournalAbstract').find('p')\n",
    "            return abstract\n",
    "        except:\n",
    "            print(\"This article does not have an abstract.\")\n",
    "            \n",
    "    def extract_article_type(self):\n",
    "        article_type = self.request().find('div','header-bar-one').find('h2')\n",
    "        return article_type\n",
    "    \n",
    "    def clean_main_body(self):\n",
    "        clean_text = re.sub(\"<([;\\s\\w\\\"\\=\\,\\:\\./\\~\\{\\}\\?\\!\\-\\%\\&\\#\\$\\^\\(\\)]*?)>\", \"\", str(self.extract_main_body()))\n",
    "        clean_text = clean_text.replace(\"[\", \"\").replace(\"]\",\"\")\n",
    "        return clean_text\n",
    "        \n",
    "    def extract_image_links(self):\n",
    "        img_links = []\n",
    "        for i in self.request().find_all('img', 'lazy'):\n",
    "            img_links.append(i.get('data-src'))\n",
    "            \n",
    "        return img_links  "
   ]
  },
  {
   "cell_type": "markdown",
   "id": "c03491ee",
   "metadata": {},
   "source": [
    "#### Example: Extracting Image Links"
   ]
  },
  {
   "cell_type": "code",
   "execution_count": 3,
   "id": "54f7fa3d",
   "metadata": {},
   "outputs": [],
   "source": [
    "r = Extract_Clean(\"https://www.frontiersin.org/articles/10.3389/fnhum.2019.00008/full\")"
   ]
  },
  {
   "cell_type": "code",
   "execution_count": 4,
   "id": "2a19e3d3",
   "metadata": {},
   "outputs": [
    {
     "name": "stdout",
     "output_type": "stream",
     "text": [
      "Successfully retrieved information from the url.\n"
     ]
    }
   ],
   "source": [
    "liss = r.extract_image_links()"
   ]
  },
  {
   "cell_type": "code",
   "execution_count": 159,
   "id": "a2c37b35",
   "metadata": {},
   "outputs": [
    {
     "data": {
      "text/plain": [
       "['https://www.frontiersin.org/files/Articles/420567/fnhum-13-00008-HTML/image_m/fnhum-13-00008-g001.jpg',\n",
       " 'https://www.frontiersin.org/files/Articles/420567/fnhum-13-00008-HTML/image_m/fnhum-13-00008-g002.jpg',\n",
       " 'https://www.frontiersin.org/files/Articles/420567/fnhum-13-00008-HTML/image_m/fnhum-13-00008-g003.jpg',\n",
       " 'https://www.frontiersin.org/files/Articles/420567/fnhum-13-00008-HTML/image_m/fnhum-13-00008-g004.jpg',\n",
       " 'https://www.frontiersin.org/files/Articles/420567/fnhum-13-00008-HTML/image_m/fnhum-13-00008-g005.jpg',\n",
       " 'https://www.frontiersin.org/files/Articles/420567/fnhum-13-00008-HTML/image_m/fnhum-13-00008-g006.jpg']"
      ]
     },
     "execution_count": 159,
     "metadata": {},
     "output_type": "execute_result"
    }
   ],
   "source": [
    "liss"
   ]
  },
  {
   "cell_type": "code",
   "execution_count": null,
   "id": "ff3592fe",
   "metadata": {},
   "outputs": [],
   "source": []
  },
  {
   "cell_type": "markdown",
   "id": "c9cea1d8",
   "metadata": {},
   "source": [
    "Note: All of the 'img' html tags that are of class='lazy' contain figures. Double checking this with many more frontiers articles is a must."
   ]
  },
  {
   "cell_type": "markdown",
   "id": "b5bb02b8",
   "metadata": {},
   "source": [
    "#### Extract abstract example"
   ]
  },
  {
   "cell_type": "code",
   "execution_count": 5,
   "id": "271aa2e0",
   "metadata": {},
   "outputs": [
    {
     "name": "stdout",
     "output_type": "stream",
     "text": [
      "Successfully retrieved information from the url.\n",
      "Successfully retrieved information from the url.\n"
     ]
    }
   ],
   "source": [
    "abstract = r.extract_abstract()"
   ]
  },
  {
   "cell_type": "code",
   "execution_count": 6,
   "id": "79d32ce4",
   "metadata": {},
   "outputs": [
    {
     "data": {
      "text/plain": [
       "<p>Repeated pairing of electrical stimulation of a peripheral nerve with transcranial magnetic stimulation (TMS) over the primary motor cortex (M1) representation for a target muscle can induce neuroplastic adaptations in the human brain related to motor learning. The extent to which the motor state during this form of paired associative stimulation (PAS) influences the degree and mechanisms of neuroplasticity or motor learning is unclear. Here, we investigated the effect of volitional muscle contraction during PAS on: (1) measures of general corticomotor excitability and intracortical circuit excitability; and (2) motor performance and learning. We assessed measures of corticomotor excitability using TMS and motor skill performance during a serial reaction time task (SRTT) at baseline and at 0, 30, 60 min post-PAS. Participants completed a SRTT retention test 1 week following the first two PAS sessions. Following the PAS intervention where the hand muscle maintained an active muscle contraction (PAS<sub>ACTIVE</sub>), there was lower short interval intracortical inhibition compared to PAS during a resting motor state (PAS<sub>REST</sub>) and a sham PAS condition (PAS<sub>CONTROL</sub>). SRTT performance improved within the session regardless of PAS condition. SRTT retention was greater following both PAS<sub>ACTIVE</sub> and PAS<sub>REST</sub> after 1 week compared to PAS<sub>CONTROL</sub>. These findings suggest that PAS may enhance motor learning retention and that motor state may be used to target different neural mechanisms of intracortical excitation and inhibition during PAS. This observation may be important to consider for the use of therapeutic noninvasive brain stimulation in neurologic patient populations.</p>"
      ]
     },
     "execution_count": 6,
     "metadata": {},
     "output_type": "execute_result"
    }
   ],
   "source": [
    "abstract"
   ]
  },
  {
   "cell_type": "markdown",
   "id": "790fe012",
   "metadata": {},
   "source": [
    "#### Extract article type example"
   ]
  },
  {
   "cell_type": "code",
   "execution_count": 7,
   "id": "27e0f1ae",
   "metadata": {},
   "outputs": [
    {
     "name": "stdout",
     "output_type": "stream",
     "text": [
      "Successfully retrieved information from the url.\n"
     ]
    }
   ],
   "source": [
    "article_type = r.extract_article_type()"
   ]
  },
  {
   "cell_type": "code",
   "execution_count": 8,
   "id": "795589bf",
   "metadata": {},
   "outputs": [
    {
     "data": {
      "text/plain": [
       "<h2>\n",
       "                                ORIGINAL RESEARCH article\n",
       "                            </h2>"
      ]
     },
     "execution_count": 8,
     "metadata": {},
     "output_type": "execute_result"
    }
   ],
   "source": [
    "article_type"
   ]
  },
  {
   "cell_type": "markdown",
   "id": "5b92a608",
   "metadata": {},
   "source": [
    "#### Example: Extracting Main Body Text Data"
   ]
  },
  {
   "cell_type": "markdown",
   "id": "6856f2d7",
   "metadata": {},
   "source": [
    "Example 1"
   ]
  },
  {
   "cell_type": "code",
   "execution_count": 35,
   "id": "d7cf6e9d",
   "metadata": {},
   "outputs": [],
   "source": [
    "req = Extract_Clean(url=\"https://www.frontiersin.org/articles/10.3389/fncom.2016.00003/full\")"
   ]
  },
  {
   "cell_type": "code",
   "execution_count": 38,
   "id": "c28f2eab",
   "metadata": {},
   "outputs": [
    {
     "name": "stdout",
     "output_type": "stream",
     "text": [
      "Successfully retrieved information from the url.\n"
     ]
    }
   ],
   "source": [
    "cl = req.clean()"
   ]
  },
  {
   "cell_type": "code",
   "execution_count": 39,
   "id": "79c4dc18",
   "metadata": {},
   "outputs": [
    {
     "data": {
      "text/plain": [
       "'Beginning with the theoretical foundations of cybernetics and information theory by Wiener (1948) and Shannon (1948), the field of theoretical neuroscience started to develop in the direction of neural information processing. At that time, scientists were inspired by the idea that the same theoretical ideas can be employed both in technological developments and in the understanding of biological, environmental or even sociological systems. Many new concepts in the areas of control, pattern recognition, sensory and motor physiology, neurology, and brain research in general were invented, and it often remains obscure whether the first inspiration comes from biological or neurological observations on one hand or from cybernetical or engineering inventions on the other. An example is the idea of the “receptive field” of neurons in the visual system and of edge or line detectors, called “simple cells”, in particular, that were substantiated by the Nobel prize winning research of the neurophysiologists Hubel and Wiesel (e.g., Hubel and Wiesel, 1968; Hubel et al., 1977)., After the initial phase of concerted progress towards both technical applications and neuroscientific insights, the field of neural information processing started to split into technology oriented research (neurocomputing and computational learning theory) and neuroscience oriented research (computational neuroscience) in the 1980s., On the technological side the driving forces or “biological inspirations” came from two observations:, During the 90’s and to a large degree initiated and guided by the mathematically beautiful statistical learning theory developed by Vapnik (1998), the practical and technical approaches to learning systems became much more sophisticated (for an overview, see Bishop, 2006), but the new machinery used for learning lost much of its direct appeal to neuroscience. On the other hand, the architectures employed for learning have become more complex and modular (e.g., “deep” multilayer networks, Bengio, 2009; Bengio et al., 2013; Abdel-Rahman et al., 2012; Hinton et al., 2012; LeCun et al., 2015), involving hierarchical configurations and even recurrent networks (reservoir computing, e.g., Maass et al., 2002; Jaeger and Haas, 2004), and also the forms of learning have become modular and perhaps more “biological”, moving from “supervised” learning (requiring a “teacher signal” or “label” for the data points) towards various combinations of supervised, partially supervised, and unsupervised learning (e.g., Chapelle et al., 2006; Schwenker and Trentin, 2014). Many of these more complex architectures and mechanisms for learning now require a scheduling of the order or sequence in which (different parts of) the learning material is presented to different parts of the network, reminiscent of the “critical” periods (of presumably higher synaptic plasticity) known in neuroscience, whose timing may differ in different areas of the cortex., On the neuroscientific side, neural modeling has been vastly extended, both in detail and in size. In particular, the processes and mechanisms involved in the spatio-temporal integration of activity in the dendrites (e.g., backpropagation of the spike; Stuart and Sakmann, 1994; Markram et al., 1995; Stuart et al., 1997) and in synaptic transmission, encompassing various forms of synaptic plasticity at several time-scales (e.g., STDP, Markram et al., 1997; Bi and Poo, 1998; Ziegler et al., 2015), have been investigated, analyzed, and simulated in more detail. Notably these simulations have often added a “computational” or functional dimension concerning the potential use or purpose of such mechanisms to a purely descriptive biophysical analysis. On the other hand, much larger networks of more simplified model neurons could be simulated due to the quickly increasing available computer power. Such larger scale or even “systemic-level” simulations were mostly guided by functional or computational ideas concerning information processing in neural networks that is able to realize interesting behavioral or even cognitive functionalities., These investigations have led to the establishment of the discipline of computational neuroscience as evidenced by several books, conferences, and journals (e.g., Churchland and Sejnowski, 1992; Dayan and Abbott, 2001; Arbib, 2002; the NIPS conferences, Journals “Neural Computation”, “Neurocomputing”, “Neural Networks”)., An important issue within the community of computational neuroscience has been “neural coding” and more generally the use of information theory in the evaluation of single neuron responses and neural networks. The question of the neural code has been debated heatedly since the late 1960s (Perkel and Bullock, 1967). The main issue was the interpretation and use of neural spike responses in terms of single spike timing or spike frequency evaluation. Much of this research was driven by the perhaps naive question, why the brain uses spikes for communication and maybe also for computation. Many sensor and motor functions have been implemented by networks of spiking neurons and there are large-scale hardware realizations for this (e.g., Mead, 1989; Mahowald and Douglas, 1991), some of which are currently under development (e.g., Merolla et al., 2014 or in the HBP1, Markram et al., 2015), with the vague prospect of being useful for technical applications. For hardware realizations of associative memories spiking activity may be useful because it fits well with the required sparseness of activity patterns (Palm, 2013). Also correlations or synchrony of activity may be easier to compute by counting coincident spikes (see the literature on “binding”, e.g., Engel and Singer, 2001). However, no convincing general theoretical argument for a principled computational advantage of spikes vs. continuous potentials has been put forward yet., In this context and also in the analysis and evaluation of peripheral (sensory or motor) neural responses and of the storage and retrieval capacity of rules for synaptic plasticity, information theory, in particular maximization of mutual information, was often used in computational neuroscience, neural modeling and sometimes even in experimental neuroscience (see Grün and Rotter, 2010; and citations in Palm, 2012, ch. 12)., On the technical side this is paralleled by a quite common use of ideas from information theory in neurocomputing and learning theory, in particular the use and optimization of the logarithm of a posteriori probabilities or the Kullback-Leibler information distance for the derivation of learning rules (citations in Palm, 2012, ch.11) and the interpretation of neural activation as Bayesian inference (e.g., Rao et al., 2002; Doya et al., 2006)., The further we move away from the periphery into central information processing and true human cognitive abilities, the sparser gets the amount of insight or inspiration we can find in current computational neuroscience. At the same time many sophisticated behaviors now are labelled as “cognitive”, which is often far from the original meaning (cf. Webster’s). There are some computational ideas concerning mirror neurons and language processing (e.g., Yu and Ballard, 2004; Arbib, 2006; Markert et al., 2007, 2009), or more complex visual tasks involving for example perceptual learning, the establishment of visual routines, or the recognition of complex objects (e.g., Rao and Ballard, 1999; Riesenhuber and Poggio, 1999; Roelfsema et al., 2003), but what is missing in these interesting approaches is a detailed integration of the purely visual subtasks into a complete cognitive behavior., This situation is reminiscent of the development of the field of artificial intelligence during the last 40 years. After very broad and general claims and initial successes in solving various particular problems (e.g., chess playing, theorem proving) in isolation by particular methods, the community started to ask for more integrated solutions demonstrating the embedding of “symbolic” artificial intelligence-methods into a broader behavioral context called symbol grounding (Harnad, 1990) or embodiment, the generalization of solutions from just one particular and often artificial type of problem to a wide variety of naturally occurring or “real world” problems (Artificial General Intelligence2), and the development of so-called cognitive architectures (e.g., Anderson, 1983, 2007; Newell, 1990; Laird, 2012) which can be used to realize these methods and solutions using well-established building blocks from cognitive psychology (e.g., Wickelgreen, 1979). Also this development points in the direction of more integrated behavioral approaches and perhaps even the use of neural or brain-like structures and processes in the realization of complex cognitive tasks possibly involving symbolic information processing (neuro-symbolic integration3)., Of course, the realization of serious cognitive abilities or of artificial intelligence, with brain-like neural networks is a hard task, since it requires an understanding and design of networks at the system level, and complete cognitive tasks typically involve a substantial part of the whole brain and in particular of the cerebral cortex (Palm et al., 2014), so that we cannot restrict our modeling to a relatively small subnetwork or subsystem. However, this kind of modeling and understanding is definitely needed even in medicine when we want to model for example the use and effect of drugs in the treatment of central neurological, psychiatric or psychological disorders. We will be able to improve medical treatments substantially when we know in more detail the effects of the application of a drug, neurotransmitter or -modulator, at a particular location in the brain, maybe even at particular neurons or particular (types of) synapses., On the experimental side, the new field of cognitive neuroscience (e.g., Baars and Gage, 2010), which emerged during the “decade of the brain” (the 1990s), could have complemented this new direction of neural information processing theory, but it rather increased the terminological confusion. Neuroscientists who had previously refrained from addressing concepts like consciousness, began discussing its localization in the brain based on the new technique of fMRI, which led to a revival of brain localization of higher cognitive functions in thousands of experimental studies and of philosophical debates about consciousness (e.g., Koch and Tononi, 2011; Tononi, 2012) and cognition in animals and for example, the attribution of some commonsense psychology to monkeys, using the strange label of “theory of mind” (Call and Tomasello, 2008). Of course, all sorts of animals are able to show very intriguing and sophisticated kinds of behavior, but even if it may be fashionable, it is not generally useful to call it “cognitive”. If we want to study human cognitive abilities like language understanding, we can at best do it in animals that are evolutionary close to us. Neurophysiology in humans is possible by non-invasive methods like EEG and fMRI, but fMRI does not provide the spatial and temporal resolution to study in detail how a computation is performed, it only allows to narrow down where it is performed. Among other things, these experiments do not tend to substantiate localist claims, since it is not at all obvious, where to localize consciousness, working memory, language understanding and most components of cognitive architectures in the brain (e.g., Sarter et al., 1996; Uttal, 2003; Ranganath et al., 2004; Ranganath and Blumenfeld, 2005; Kiefer and Pulvermüller, 2012; Pulvermüller et al., 2014; Ulrich et al., 2014). This does not contradict the possibility of modularity in brain organization (Fodor, 1983), but it still remains unclear, what these modules might be (beyond sensory modalities, for example) and how they relate to the particular modules often postulated in mainstream cognitive psychology., Based on these developments leading to the present state of affairs, it should now be the time to further the theoretical understanding of complex cognitive abilities, including computationally demanding tasks as in artificial intelligence and psychologically and socially important faculties like introspection, empathy, consciousness and free will. The development of such theories should be guided or constrained by our accumulated knowledge from neuroscience, psychology, and computer science., In order to foster the advancement of computational neuroscience in this direction, it may be useful, but it is certainly not sufficient to organize the collection and distribution of more complete and better experimental neuroscientific data in order to model these data (as in the HBP1 or the BAM project, Alivisatos et al., 2012), because this will at best lead to a biophysical understanding of brain activity. In addition, it is necessary to develop synthetic ideas of how certain cognitive abilities involving image or language understanding, planning and non-factual reasoning could be realized adequately in brain-like neural networks, i.e., to understand the neural mechanisms for deliberate decision making and the sequential concerted organization of massively parallel computations (Palm and Bonhoeffer, 1984), or to develop artificial intelligence in brain-like neural networks (see Palm, 1982 for an early attempt)., Kahnemann (2011) has distinguished two kinds of processes that are involved in decision making: slow and fast. Many complex behavioral abilities, for example in perception, reinforcement learning and motor control, have been understood quite well in computational neuroscience so far, but they typically deal with the “fast system” that we share with many animals. The “slow system” of decision making which is related to “mental energy” (which requires physical energy, but may not be exactly the energy consumption measured in functional MRI) and interacts in interesting and subtle ways with the fast system, is not easily amenable to neuroscience and has hardly been studied or modelled in computational neuroscience, although we cannot deny its psychological reality. It would be a good candidate for the “conductor” mentioned in the title. Psychological models of these processes (e.g., Anderson, 1983, 2005; Baddeley et al., 1996; Baddeley, 2007; Lewandowsky and Farrell, 2010; Cooper, 2013) are able to describe some of this, but are still far from detailed neurocomputational realizations (Barak and Tsodyks, 2014). If we take cognition seriously and not just use it as a fancy label, we will open a new emerging field of interdisciplinary research between computer science, neuroscience and cognitive psychology., Criteria for a good neurocomputational cognitive model can be combined from criteria already demanded by neuroscientists, computer scientists and psychologists; some of them that immediately come to mind, are listed below. Certainly any good cognitive model should address several of these criteria., The basic demand is of course that the model really solves a cognitive task. For this we need a behavioral description of the task, an outline of the solution and a computer program or simulation of it that can be tested on a variety of problem instances. This program should be realized in (or demonstrably convertible into) a neural network architecture. Based on this we can produce a list of criteria:, Perhaps in this new kind of large-scale or system-level computational modeling some of the recent developments in the application oriented branch of neural information processing need to be reunited with the neuroscience oriented branch. After all, during evolution the development of intriguing cognitive abilities in the human brain has been pushed forward by the need to solve various complex tasks in the real world by reorganizing the same basic neural machinery. So in order to understand the concerted cooperation of several cortical areas and subcortical structures in the solution of complex cognitive tasks it may in fact be useful to consider the more sophisticated network architectures and learning schemes that have recently been put forward in order to solve complex practical problems in various fields of applications., The author declares that the research was conducted in the absence of any commercial or financial relationships that could be construed as a potential conflict of interest.'"
      ]
     },
     "execution_count": 39,
     "metadata": {},
     "output_type": "execute_result"
    }
   ],
   "source": [
    "cl"
   ]
  },
  {
   "cell_type": "markdown",
   "id": "bc1c3cf8",
   "metadata": {},
   "source": [
    "Example 2"
   ]
  },
  {
   "cell_type": "code",
   "execution_count": 40,
   "id": "62180439",
   "metadata": {},
   "outputs": [],
   "source": [
    "req_2 = Extract_Clean(url=\"https://www.frontiersin.org/articles/10.3389/fpsyt.2020.578706/full\")\n"
   ]
  },
  {
   "cell_type": "code",
   "execution_count": 41,
   "id": "26d26aeb",
   "metadata": {},
   "outputs": [
    {
     "name": "stdout",
     "output_type": "stream",
     "text": [
      "Successfully retrieved information from the url.\n"
     ]
    }
   ],
   "source": [
    "cl1 = req_2.clean()"
   ]
  },
  {
   "cell_type": "code",
   "execution_count": 42,
   "id": "57d5b3bf",
   "metadata": {},
   "outputs": [
    {
     "data": {
      "text/plain": [
       "\"The understanding of psychiatric disorders is based on multiple interacting levels, from genetics to cells, neural circuits, cognition, behavior, and the surrounding environment. In addition to efforts to accumulate large-scale biological and psychological evidence such as the ENIGMA (1) and COCORO (2) projects, recent advances in computational methodology have helped to handle high-dimensional data to understand psychiatric disorders (3, 4) Bringing mathematical methodologies and theoretical frameworks to psychiatric research is expected to have a central role in the development of treatments and preventive strategies; the use of such methods constitutes an area of research called computational psychiatry (CPSY), which has come to be treated as an important discipline of psychiatry. The development of this field has been reviewed in many papers from the perspective of clinical and computational neuroscience (5–10). This is a highly multidisciplinary field that requires researchers from a variety of backgrounds ranging across neuroscience, psychiatry, and mathematical modeling. Therefore, to accelerate CPSY research, it is crucial to link each CPSY study to the knowledge derived from different fields, including accumulated evidence of neuroscience, traditional psychiatry, and computational techniques., Traditionally, mental disorders have been diagnosed based on patients' self-reporting of subjective experiences and behavioral observation by clinicians; disorders are conceptualized by accumulating those observations. While this view provides benefits for topics such as clinical communications based on the reliability of a diagnosis (11), the current diagnostic category faces several challenges in terms of biological plausibility. Namely, the underlying biological pathology associated with a particular psychiatric disorder category is often observed in other disorder categories (non-specificity) e.g., (12, 13). Moreover, patients diagnosed with a psychiatric disorder of a particular category indicates diverse differences in treatment responses, disease processes, and outcomes (lack of predictive validity) (14). The National Institute of Mental Health (NIMH) has developed the Research Domain Criteria (RDoC) framework to systematize psychiatric research based on the findings of behavioral neuroscience that is not bound by conventional disease categories (15, 16). Moreover, the NIMH has provided the RDoC matrix, which integrates many levels of information. The observable basic component functions based on behavioral neuroscience are defined as constructs. Psychiatric disorders are considered on a spectrum from normal to abnormal states of constructs and related constructs are organized into a domain. In addition, they enumerated the variables of the unit of analysis from micro to macroscopic levels. Although the dimensional approach of RDoC must work well-together with the computational approach in the sense that most computational models represent individual differences as continuous parameters, the correspondence between the contents of each CPSY research paper and RDoC is not mentioned in many cases. Linking RDoC to each study based on accumulated neuroscience findings is essential to enhance the significance of CPSY research, particularly with regard to showing the expected role of CPSY research in connecting the knowledge of different aspects using mathematical models., Since RDoC does not cover the traditional taxonomy and symptomatology of mental disorders, linking CPSY studies to RDoC is not sufficient. As mentioned, traditional psychiatric symptomatology has contributed significantly to the research and diagnostic classification criteria because of the inter-rater reliability (11), which has been accumulated in the fifth edition of the Diagnostic and Statistical Manual of Mental Disorders (DSM-5) (17, 18). Thus, an integration of the terms of psychiatric symptomatology and neuroscientific knowledge defined in the RDoC is needed. However, it is difficult for researchers outside the domain of psychiatry to obtain an overview of which symptoms are important and what should be studied., In CPSY research, various powerful computational tools and conceptual frameworks are used to analyze and manipulate high-dimensional, multimodal data sets, including clinical, genetic, behavioral, neuroimaging, and other data types obtained by animal models, human experiments, clinical reports, and simulations. In this domain, there are different cultures, such as the theory-driven vs. data-driven approaches (10). The theory-driven approach models the information processing of perception and cognition in the brain based on the computational framework. The data-driven approach applies machine learning methods to large-scale data on mental disorders, then clusters the data and develops discriminatory models. Additionally, various types of models (e.g., reinforcement learning, neural networks, and biophysical models) have been utilized in this field. It is, therefore, necessary to organize the methodologies, data, theories, and models that are used to accelerate the research., Due to cumulative efforts in the fields of neuroscience, psychiatry, and mathematical modeling, CPSY research could have a central role in the rational development of psychological pathology, treatments, ontologies, and preventive strategies. However, insufficient connections between the perspectives of neuroscience, psychiatry, and computational models may hinder the extension of research. For example, clear connections between a computational modeling study to and RDoC constructs and the unit of analysis could provide insights from the accumulated findings of neuroscience in the related domains with different granularity. In addition, this link can be used to explore what kind of computational models may be applicable to a particular impairment of cognitive functions. Therefore, in order to enable further development in the field, it is necessary to organize individual studies from the following perspectives: (1) Connection to neuroscience: What cognitive functions and units of analysis, such as behavior and circuitry, are targeted? (2) Connection to psychiatry: Which mental disorders and symptoms are being addressed and, which are not being addressed? (3) Connection to computation: What methodologies, data, theories, and models are used?, To address this issue, we developed a database and created an environment wherein anyone can search, register, and obtain an overview of CPSY research as a web application. In this report, a CPSY Research Map (CPSYMAP) (RRID:SCR_018942; accessible online at https://ncnp-cpsy-rmap.web.app/) (19) is described, which is an online database that tags CPSY papers using the terminology of neuroscience, psychiatry, and computation to help researchers organize and visualize the status of research areas along with the tags on a two-dimensional map., CPSYMAP is accessed through a public website at https://ncnp-cpsy-rmap.web.app. The database was built using Google Firebase (20) and the source code was written in Javascript. The core of CPSYMAP is a database consisting of two components: information about individual papers and the tags based on neuroscientific, psychiatric, and computational knowledge. The information about the papers is taken from API Crossref (21). The data points stored are the title of the paper, the names of authors, the citation count, digital object identifier (DOI), data type, and abstract., Individual CPSY papers are tagged according to the categories of neuroscience, psychiatry, and computation in order to characterize and visualize their relationships from the three perspectives described above; lists of all tags are shown in Supplementary Table 1., From the neuroscientific perspective, the RDoC domain, construct, and subconstruct are provided as options showing which cognitive functions are targeted. To arrange the papers by the unit of analysis, users can choose tags including genes, molecules, cells, neural circuits, physiology, behaviors, self-reports, and paradigms., To visualize the mental disorders and symptoms that are being addressed and those not being addressed, we provide options from both the DSM-5 and symptomatology. The DSM-5 is the authoritative list of mental disorders proposed by the American Psychiatric Association (17). Psychiatric symptomatology is a method of psychiatry attempting to describe and reconstruct the characteristics of patients' experiences from the perspectives of psychology and phenomenology. We are referencing the lexicon of psychiatric and mental health terms (WHO) (18)., To arrange the different types of computational frameworks, we provide options in a category called experimental design. In this category, we defined seven tags including Modeling computational processes of the brain, Model-fitting, Simulated lesion, Classification/Discrimination, Clustering, Prediction of disease states and Others. The definitions are provided in the database (19) and in Table 1., The data type can be selected from animal data, human data, simulation, and literature review. Although we could not cover all the models used in this field, the tags the for models are also provided. For the model names, 13 tags are prepared and 5 models (Reinforcement learning, Biophysical model, Neural network model, Bayes, and Regression model) are shown on the axis., CPSYMAP provides a simple graphical user interface to create a web application environment where anyone can register, search, and, overview CPSY research. Through the graphical user interface, users can easily select and tag the scientific papers they want to add. Note that for the registration of a paper, CPSYMAP uses a community augmented approach, i.e., anyone can register and add tags to a paper based on their judgements., This is a community augmented approach, meaning that CPSYMAP is publicly editable. Thus, like other crowd-sourced projects, the registered information is not guaranteed to be accurate. We aimed to avoid flooding the CPSYMAP with inaccurate information and making it less reliable by implementing the following measures. First, if a user adds a tagged paper, they can review and edit the related tag information at any time. We have also implemented a simple reporting system, called “Edit request.” When a user finds mistakes or wants to make suggestions regarding the tags added on papers by other users, they can send an edit request via the CPSYMAP website. Administrators of the CPSYMAP (i.e., the authors) validate these requests and make appropriate changes to the database., The information regarding the registered papers and tags can be downloaded from the site in.csv format and can be used for secondary analysis by other researchers with credit to CPSYMAP by citing this paper. In addition, we could potentially share our source code in case of inquiry., This database organizes and visualizes the status of the research areas along the tags on a two-dimensional map. In the Heatmap section, the degree of green color shading indicates areas with many papers vs. areas with few papers (Figure 1)., Each cell contains the papers with tags specified in the vertical and horizontal axes. The users can choose the vertical and horizontal axes they wish to view. Clicking the cell takes users to the Pickup Table. This section allows users to view the paper list in the cell and sort the tags in ascending or descending order. When users choose a paper from the table, the details of the paper appear. The filter function can be used to further narrow the contents in the map., Using these functions, we introduced a preliminary notice from the database. When accessed on October 10th, 2020, there were 248 papers in total (32 users other than the authors registered papers). If users choose the same category on both the horizontal and vertical axes, they can see the distribution of the papers on a single axis (Figure 2). Since we allow multiple selections of tags during the registration, there are some papers outside of the diagonal cells. Regarding the data type, for example, 80 papers used a simulation as their main result and 149 papers reported experiments with human participants; 16 papers dealt with both simulations and human experiments., Regarding the RDoC domain, the cognitive system was the term most frequently tagged to papers (122 papers). By using the pickup table and filter function, users can shortlist the papers. Within the constructs of the cognitive system, cognitive control was tagged to 50 papers, while working memory and perception were studied in 30 papers. Within the six domains, the arousal and regulatory systems are less frequently tagged in this database. Concerning the unit of analysis of the RDoC matrix, fewer papers deal with the cellular or molecular level; this was reflected in the small number of papers using biophysical models., If the unit of analysis and models are chosen for the axes in the current database, the cells with the largest number of papers concern behavior crossed with reinforcement learning (84 papers, Figure 1). The papers included in the cell dealt with a wide range of disorders such as schizophrenia (20 papers) and depressive disorders (20 papers); however, papers on substance use disorders were the most prevalent (26 papers)., In cases where the target disease is already determined, users can see the different landscapes by choosing the disease in the filter and perusing the Heatmap section. Before filtering by the DSM-5 category, the reinforcement learning crossed with model-fitting (58 papers) is the most common methodology (Figure 5); however, the cell with neural network models crossed with modeling computational processes of the brain and the cells with Bayes have a similarly large number of the papers (13–14 papers) after filtering by schizophrenia (Figure 6). This difference in the landscape might provide insights to find the niches of each field depending on the type of the disorders., We developed CPSYMAP to visualize research papers on a two-dimensional map and to provide an interactive environment where anyone can search, register, and obtain an overview of CPSY research. Further, we described the details and importance of the perspectives of neuroscientific, psychiatric, and computational methods and how we implemented those dimensions in this database. Finally, we showed some preliminary analysis of the registered papers in the database., This is the first database of research papers in the field of CPSY. In addition, the CPSYMAP provides the benefit of presenting new ways of organizing papers, such as expressing distributions with the use of colors in maps and switching axes. It is designed in a way such that it can be updated and augmented though the efforts of the community. This database can enable a new form of reviewing research articles in the sense that the database can help researchers design new research plans and organize previously published works., However, other approaches to organize and visualize research papers are also available. For instance, Microsoft Academia is a semantic search engine for academic research that is not keyword-based (23). It provides a sophisticated user interface to visualize the keywords of papers and organize academic knowledge, including relationships between authors, in a variety of research fields. However, since the scope of that engine includes the entirety of academia, it may not cover the granularity we aimed to achieve in our database. A notable advantage of our database is that it attempts to cover the entire field of CPSY while ensuring fine granularity and organized dimensionality (neuroscience, psychiatry, and computation)., In addition, the significance of systematic evidence maps in several fields, including epidemiology (24), environmental science (25), and psychiatry (26–28), is increasing. These maps provide a comprehensive overview of the evidence with visual depictions such as figures or tables in most cases (29). CPSYMAP can be considered as one form of an evidence map. However, a unique feature of our database is that it can be updated to include all newly published papers in this field. This allows for an open and community-augmented approach, which is expected to promote the field of computational psychiatry., Conversely, there are some limitations to this database. Currently, the number and categories of registered papers are limited. This could be resolved as the community begins to assist us with registration of additional research papers and as more computational psychiatrists become familiar with our database., The second limitation is the potential for credibility issues with tagging. Specifically, there may be disagreements and differing views on tagging among the users and contributors in the community. At present, users are asked to identify problems using the edit request function., To overcome these limitations, we plan to update CPSYMAP, especially the registration process. To improve the coverage and objectivity, a semi-automatic registration system will be introduced. The algorithm will recommend potential papers that are suitable for registration and suggest tags for the individual candidate papers. Human researchers will review these suggestions, and approved papers will be registered in the database. We will develop automated tag suggestions as part of the next major update scheduled around April 2021., We expect that the CPSYMAP database will provide a better perspective for non-specialists regarding topics that are not explored often and that are important in the CPSY field. This may attract more experts from other fields such as informatics, physics, and engineering, as well as attracting more experts from psychiatry and neuroscience to CPSY research., Moreover, the user interface allows researchers to understand CPSY papers with a multidimensional view, which we hope will assist with the development of computational methods and theoretical frameworks to establish links between traditional psychiatry and neuroscience. This can contribute to the integration of different methods, especially the interactive and cyclical development of both theory-driven and data-driven approaches. By building a platform for the organization and storage of information, we hope that the database contributes to the efficiency of research and vitalization of the field., The original contributions generated for this study are included in the article/Supplementary Materials, further inquiries can be directed to the corresponding author/s., AK and YY conceived the study and wrote the manuscript. TO, YK, and KK provided advice on the system design of the database, reviewed, and commented on the manuscript. All authors contributed to the preparation of the article and approved the final version., This study and the database were supported by grant JST CREST JPMJCR16E2, JSPS KAKENHI JP18KT0021, JP19H04998, JP20H00001, and JP20H00625., AK is an employee of CureApp, Inc, Japan., The remaining authors declare that the research was conducted in the absence of any commercial or financial relationships that could be construed as a potential conflict of interest., We wish to thank Mr. Yuji Kawase for developing the database. We also wish to thank Mr. Chris Salzberg and Editage for English editing, and thank Dr. Hiroshi Yamakawa for stimulating discussions. Finally, this database is also supported by the members of the computational psychiatry colloquium in Japan. We appreciate their suggestions for the user interface and efforts to register papers in the database. This manuscript has been released as a pre-print at bioRxiv (30)., The Supplementary Material for this article can be found online at: https://www.frontiersin.org/articles/10.3389/fpsyt.2020.578706/full#supplementary-material\""
      ]
     },
     "execution_count": 42,
     "metadata": {},
     "output_type": "execute_result"
    }
   ],
   "source": [
    "cl1"
   ]
  },
  {
   "cell_type": "markdown",
   "id": "49ac7842",
   "metadata": {},
   "source": [
    "Example 3"
   ]
  },
  {
   "cell_type": "code",
   "execution_count": 112,
   "id": "270cbe6e",
   "metadata": {},
   "outputs": [],
   "source": [
    "req_3 = Extract_Clean(url=\"https://www.frontiersin.org/articles/10.3389/fnhum.2019.00008/full\")"
   ]
  },
  {
   "cell_type": "code",
   "execution_count": 113,
   "id": "c091ddc7",
   "metadata": {},
   "outputs": [
    {
     "name": "stdout",
     "output_type": "stream",
     "text": [
      "Successfully retrieved information from the url.\n"
     ]
    }
   ],
   "source": [
    "cl2 = req_3.clean()"
   ]
  },
  {
   "cell_type": "code",
   "execution_count": 114,
   "id": "dd53bcd3",
   "metadata": {},
   "outputs": [
    {
     "data": {
      "text/plain": [
       "'Triggered by a variety of internal and external environmental stimuli, neural networks have a remarkable ability to modify their structure and function to learn new behaviors (Kandel, 2001; Cooper, 2005). Neural plasticity is an underlying mechanism for motor learning in both the neurologically intact and injured brain (Kleim and Jones, 2008). To improve motor function, various types of noninvasive brain stimulation to induce positive neural plasticity in the injured brain and as a primer for rehabilitation have been studied (Player et al., 2012; Carson and Kennedy, 2013). One type, paired associative stimulation (PAS), involves the repetitive close pairing of an electrical stimulus of a peripheral nerve with transcranial magnetic stimulation (TMS) of the contralateral primary motor cortex (M1). Through spike-timing dependent plasticity (STDP) and the induction of long-term potentiation (LTP)-like processes, changes in corticomotor excitability can be induced with this repeating pairing over time (Müller-Dahlhaus et al., 2008). The direction and magnitude of the induced neurophysiologic effects of PAS are: largely dependent on the interstimulus interval (Wolters et al., 2003); highly variable between individuals (Müller-Dahlhaus et al., 2008; López-Alonso et al., 2014); observed beyond the period of stimulation (Stefan et al., 2002; Player et al., 2012); and affected by the state of the motor system (rest vs. muscular contraction) within and homologous to the targeted limb (Kujirai et al., 2006; Kennedy and Carson, 2008; Koch et al., 2013)., While increased general corticomotor excitability is commonly observed after facilitatory PAS, as indicted by increased amplitude of the motor-evoked-potential (MEP) in response to single-pulse TMS (for review see Carson and Kennedy, 2013), the underlying mechanisms for such increases in corticomotor drive are poorly understood. Traditional PAS techniques targeting muscles at rest can affect neuronal networks with indirect cortical inputs of facilitation and inhibition (Humeau et al., 2003; Kujirai et al., 2006; Carson and Kennedy, 2013); however, previous studies have generally found no change in measures of intracortical facilitation (ICF) and short interval intracortical inhibition (SICI) that reflect activity of these neuronal networks (Stefan et al., 2002; Sale et al., 2007; Russmann et al., 2009). Interestingly, Kujirai et al. (2006) observed that when the targeted muscle maintained a submaximal contraction throughout the course of the PAS protocol, there was a greater enhancement of general corticomotor excitability. This effect was coupled with a decrease in SICI and an increase in ICF when a sub-motor threshold TMS current directed in the anterior to posterior direction was induced to target these indirect synaptic inputs (Kujirai et al., 2006). These findings suggest that; such indirect intracortical circuits contribute to the effects of PAS on corticomotor excitability; the active state of the motor system may preferentially enhance these effects (Kujirai et al., 2006); or the active state of the cortex could target different mechanisms of cortical plasticity than those at rest (Koch et al., 2013). Interestingly, Bunday et al. (2018) recently demonstrated that producing a light volitional contraction during a PAS paradigm further enhanced corticospinal excitability compared to the same PAS paradigm performed at rest in a group of individuals with incomplete spinal cord injury. Following a PAS paradigm performed at rest, our laboratory previously found that a PAS intervention could enhance corticomotor excitability in stroke survivors and that this increase in corticomotor excitability was associated with enhanced motor skill performance following PAS (Palmer et al., 2018). Importantly, compared to neurologically-intact individuals, atypical cortical network behavior has been observed in stroke survivors during active but not resting motor states in multiple instances (Murase et al., 2004; Borich et al., 2016; Palmer et al., 2016, 2017). Additionally, intracortical neural activity indexed by SICI and ICF is associated with volitional movement and motor learning (Hall et al., 2011; Coxon et al., 2014; Morin-Moncet et al., 2018). These observations support the need for a better understanding of the potential effect of the state of the motor system on PAS-induced modulation of cortical excitability. Improved understanding of the effect of motor state on mechanisms of neuromodulation could have important implications for clinical translation of effective PAS protocols to neurologic patient populations. Importantly, the relationship between these differences in cortical mechanisms in active vs. resting motor states and changes in motor performance and learning have not been well characterized., The fundamental goal of therapeutic noninvasive brain stimulation techniques, such as PAS, is to induce corticomotor plasticity that will improve the performance of motor tasks and increase the potential for motor learning and restoration of function. Yet, there is a paucity of research investigating the effect of PAS on motor performance and learning. Similar to mechanisms that likely mediate PAS-induced neuroplasticity (Stefan et al., 2000; Carson and Kennedy, 2013; Vallence et al., 2013), there is evidence that motor learning is associated with LTP and LTD-like processes (Rioult-Pedotti et al., 1998, 2000; Sanes and Donoghue, 2000; Ziemann et al., 2004). Interestingly, baseline performance on a motor learning task was not associated with PAS-induced increases in corticomotor excitability in young healthy individuals (Frantseva et al., 2008; Player et al., 2012; Vallence et al., 2013). Despite the lack of association between baseline motor learning performance and PAS-induced corticomotor excitability, facilitatory PAS, performed prior to a bout of motor training, could increase corticomotor excitability via LTP-like mechanisms. This facilitation might influence subsequent motor performance and retention through “priming” of the neuromotor pathways by which motor learning occurs. However, to our knowledge, no studies have investigated the effect of motor state during PAS on motor performance or learning., Given the limited understanding of how the state of the motor system during PAS affects PAS-induced LTP-like neuroplasticity and motor learning, the primary purposes of this study were to: (1) investigate the effect of motor state on PAS-induced changes in corticomotor and intracortical excitability; and (2) characterize the effect of an active vs. resting motor state during a PAS intervention on motor skill acquisition and retention., Fifteen neurologically intact, right-handed adults (age: 24.5 ± 0.82 years, nine female) were recruited for this study. Participants were included if they were between the ages of 18–35 years, had no history of neurologic pathology, and no contraindications to TMS testing (Rossini et al., 2015). All participants gave written informed consent in accordance with the Declaration of Helsinki. All study procedures were approved by the Emory University Institutional Review Board. All participants completed three study visits separated by 1 week. During each visit, one bout of PAS (PASACTIVE, PASREST, PASCONTROL) was performed with the order of PAS condition randomized. The assessments detailed below were performed at time points before and after PAS. Motor skill retention was assessed at the PRE testing time point of the subsequent condition 1 week later., A bar electrode was placed over the left median nerve with the cathode placed proximally and the distal end of the electrode aligned with the wrist crease. Participant report of a tingling sensation in the hand area of innervation was used to confirm the electrode location. Next, electric stimuli (200 μs square wave, monophasic pulse) were delivered using a constant current stimulator (DS7A, Digitimer Ltd.) at increasing intensities until an M-wave of 1 mV in peak-to-peak amplitude was evoked in the left abductor pollicis brevis (APB) muscle. Two hundred stimuli were delivered at 3 Hz while the left hand and APB were resting. Resting state of the APB was confirmed by online monitoring of continuous EMG signals. Electroencephalography (EEG) data were continuously recorded (sampling frequency: 5,000 Hz, impedance: &lt;5 kΩ, frequency range: 0–1,000 Hz, 0.5 μV/bit resolution) using a 32-channel TMS-compatible electrode cap (Easy Cap) and amplifier (BrainAmp DC, Brain Products Ltd.). We calculated the latency of the mean peak of the N20 component of the SEP using custom Matlab functions and EEGLAB (Delorme and Makeig, 2004) in the electrode overlying the primary somatosensory cortex (S1) in the right hemisphere (CP4). The individual N20 latency was used to determine the interstimulus interval between the peripheral nerve stimulus and TMS during PAS delivery and the assessment of short afferent inhibition (SAI) for each participant individually., Following PAS delivery, corticomotor excitability was assessed at PRE, POST0, POST30, and POST60 min time points (Figure 1). Participants were seated comfortably in an upright position while monophasic magnetic pulses with a 100 μs approximate rise time and a 1.0 ms total pulse duration were delivered through a 70 mm hand-held figure-of-eight coil connected to two Magstim 2002 stimulators through a Bistim module (MagStim Ltd., Wales, UK). The coil was oriented perpendicular to the central sulcus to induce a posterior-anterior current in the M1 of the right (non-dominant) hemisphere (Devanne et al., 1997). Using surface electromyography (EMG), cortical excitability was evaluated by measuring the peak-to-peak amplitude of the MEP response following the stimulus artifact. EMG activity was recorded using surface electrodes (9 mm diameter, 4–5 mm inter-electrode distance) that were carefully positioned and affixed to the skin overlying the left and right APB muscle bellies, with the electrodes aligned parallel to the muscle fiber orientation. EMG data were sampled using a 16-channel EMG system (BrainAmp ExG amplifier, Brain Products GmbH) at a rate of 5,000 Hz, and band-pass filtered at 10–1,000 Hz. Using each participant’s high-resolution T1 anatomical MRI image (TR = 7.4 ms, TE = 3.7 ms, flip angle θ = 6°, FOV = 256 mm, 160 slices, 1 mm thickness), stereotactic neuronavigation software (BrainSight®, Rogue Research Inc., Montreal, QC, Canada) was used during TMS to ensure coil placement and orientation remained consistent for all TMS assessment measures and the PAS intervention. The optimal site for TMS was determined for each participant using standard procedures (Devanne et al., 1997). First, the stimulation intensity defined as the percent of maximum stimulator output (MSO) needed to produce a &gt; 50 μV peak-to-peak amplitude MEP response in at least three out of five trials was determined as the resting motor threshold (RMT) for each participant. The TMS intensity (%MSO) needed to produce a ~1 mV MEP response in three out of five trials was also identified (Nitsche et al., 2007; Castel-Lacanal et al., 2009; Player et al., 2012). At each assessment, TMS was delivered over the right M1 APB hotspot at a rate jittered from 0.25 to 0.1 Hz while 20 MEPs were obtained for each TMS condition. Given attention levels can affect the corticomotor response (Stefan et al., 2004), a visual stimulus was presented on the computer screen positioned directly in front of the participant at randomly timed intervals. The participant counted the number of visual stimuli and reported the number after each assessment. The following TMS assessments were performed., TMS intensity was set to the ~1 mV threshold identified at the beginning of the session and held constant for all assessments within the session., When an afferent stimulus applied to a peripheral nerve precedes TMS to the contralateral M1 by ~20 ms in the assessment of hand muscles, there is typically a diminution of the MEP amplitude. These paired-pulse stimulation parameters can be used to evaluate the influence of afferent input to S1 on corticomotor output through an assessment paradigm termed SAI (Tokimura et al., 2000). Single electrical stimuli applied over the left median nerve preceded single TMS pulses over the right M1 at an interstimulus interval of the individual N20 latency plus 3 ms between the median nerve (intensity: ~1 mV M wave). An M1 stimulation intensity of ~1 mV MEP was used (Udupa et al., 2014)., When a subthreshold TMS pulse precedes a suprathreshold TMS pulse using a paired-pulse paradigm, the observed MEP response is either suppressed or facilitated, depending on the interstimulus interval duration between the paired pulses (Kujirai et al., 1993; Di Lazzaro et al., 2006; Coxon et al., 2014). The terms SICI and ICF refer to the MEP response inhibition and facilitation, respectively, and are used to assess inhibitory and facilitatory intracortical components of general corticomotor excitability (Kujirai et al., 1993; Di Lazzaro et al., 2006; Coxon et al., 2014). In the present study, the interstimulus intervals between the conditioning and test TMS pulses were set to 2 ms (SICI) and 12 ms (ICF; Di Lazzaro et al., 2006). The conditioning stimulus was set at an intensity of 80% of RMT while the test stimulus was set at the same ~1 mV MEP intensity (Ziemann et al., 1996)., All MEP data were normalized to the maximal response to peripheral nerve stimulation (M-max) in the APB, enabling comparison of the normalized MEP amplitudes across PAS testing conditions. The left median nerve was stimulated with electrical pulses of gradually increasing current intensities until a plateau in the M response was achieved. Twenty pulses were delivered at the intensity needed to produce M-max at each assessment., During each PAS session, participants were seated comfortably with arms resting in a pronated position on a pillow that rested on a table set just below the level of the chest. The left median nerve was stimulated at the same intensity used for SAI assessment procedures and was held constant for the duration of the PAS session. TMS was delivered over the right M1 motor hotspot for the left APB and the intensity was set to the ~1 mV threshold for the left APB muscle, as described above. The stimulation intensity of the peripheral nerve and TMS was held constant between each PAS condition. This procedure allowed for normalization of the dosage of neurostimulation delivered during PAS intervention between each condition. A single electrical pulse applied over the left median nerve was combined with single-pulse TMS (PASREST and PASACTIVE) or sham TMS (PASCONTROL) over the right M1. The interstimulus interval between the median nerve and M1 stimulation was the individual N20 latency (group mean 19.5 ± 1.1 ms) plus 5 ms to account for conduction time between S1-M1 cortico-cortical connections (Goldring et al., 1970; Conde et al., 2013; PASN20+5). Each PAS session consisted of 180 pairs of stimuli (median nerve and TMS) delivered at 0.25 Hz. During the PASREST session, participants kept the APB muscle relaxed bilaterally (verified by monitoring of continuous EMG activity). Throughout the PASACTIVE and PASCONTROL conditions, participants maintained a light contraction of APB at 15% of their maximum EMG activity. Participants were provided continuous visual feedback of APB EMG activity on a computer display to ensure that they maintained a consistent level of muscle activation. Additionally, participants were instructed to count the number of visual light stimuli presented directly over the left APB in all conditions to account for attentional effects on PAS response (Stefan et al., 2004). The visual light stimulus was presented at random intervals between 5 and 20 times total during the PAS intervention. The visual stimulus was not presented during PAS delivery but provided between PAS pairs to avoid possible interactions between visual information processing and PAS-evoked cortical activity., A unimanual version of the serial reaction time test (SRTT) was used to characterize the effects of PAS on motor skill performance (Cohen et al., 2005). Participants were seated in front of a standard keyboard. A computer screen at eye-level displayed a row of white rectangular targets corresponding to each of four sequential keys (V, B, N, M) on the keyboard. The participants were told the task evaluated reaction time and were instructed to press the correct key with the corresponding digit of the non-dominant hand (e.g., press “V” with the 5th digit when the leftmost target was illuminated on the screen) as quickly and accurately as possible. After a correct response, a new stimulus target was illuminated following a delay of 400 ms. For each assessment time point, participants completed 17 blocks (280 key presses total) of the SRTT. During the first and last block, a 50-element stimulus sequence was displayed in random, non-repeating order. Each middle block (blocks 2–16) repeated an identical 12-element sequence (B-N-V-M-N-B-M-V-N-M-B-V). The duration of each SRTT assessment was dependent on the speed at which the participant completed the key presses and typically lasted approximately 3 min. The SRTT was performed with the left hand at baseline (PRE), POST0, POST30, and POST60 testing time points. Additionally, the SRTT assessment performed at the PRE time point during visits 2 and 3 was used as the retention assessment for visits 1 and 2 respectively. A separate retention test was not performed after visit 3., The peak-to-peak MEP amplitudes were averaged at each time point and normalized to the mean M-max collected at the corresponding time point. Mean amplitudes of SAI, SICI and ICF were expressed as a ratio of conditioned over unconditioned (1 mV) normalized MEP responses (MEP ratio). The mean MEP ratio was expressed as a percentage of the baseline value for each post-PAS time point.(Nitsche et al., 2007; Player et al., 2012) Percent change relative to the baseline was calculated for each MEP variable as (POST-PRE)/PRE * 100 (Nitsche et al., 2007; Player et al., 2012)., The response time (RT; reaction time + movement time) was defined as the time between the visual stimulus presentation and the correct key press. The mean RT during the second random sequence block (RandEND) was used to evaluate general motor skill performance at each assessment. A sequence-specific skill score was calculated as the difference between the average RT during the last random block and the average RT of the preceding four repeated sequence blocks of the left hand (RandEND − RepEND4) for PRE, POST0, POST30, and POST60 time points (Figure 1). We used the RT during the 50 random trials at the beginning of the POST0 assessment (RandBEG) to evaluate the immediate effects of PAS on general motor skill performance before additional task practice. To investigate the immediate effects of PAS on sequence-specific motor performance, we also calculated the skill score at the beginning of the POST0 SRTT as the difference between mean RTs for RandBEG and RepBEG4., The influence of PAS on motor skill retention was evaluated. We calculated an additional RETENTION time point skill score as the difference between the average RT of the first random block and the average RT of the next four repeated sequence blocks (RandBEG − RepBEG4) for the PRE assessment performed on visit 2 and visit 3 as a basis for evaluating skill retention from visit 1 and visit 2, respectively. The difference between RETENTION skill score and POST60 skill score from the end of the preceding session was used to quantify level of sequence-specific skill retention. Performance on the first random block at retention (RandBEG) was compared to performance on the last random block at POST60 (RandEND) to evaluate general motor performance retention (Figure 1)., Each primary outcome measure was tested for normality and homogeneity of variance using Kolmogorov-Smirnov and Levene’s tests, respectively. Parametric testing procedures were performed if data met assumptions of normality and homogeneity of variance as indicated by a non-significant (p &gt; 0.05) test result. Separate repeated measures analysis of variance (RM-ANOVA) tests with within-subject factors of time (POST0, POST30, POST60) and condition (PASACTIVE, PASREST, PASCONTROL) were used to test the effect of PAS and muscle activation on corticomotor excitability for all MEP measures (1 mV, SAI, SICI, and ICF)., The following tests were performed to assess motor skill:, Complete data sets for corticomotor excitability were obtained for all participants in both PASACTIVE and PASREST conditions, except for one participant who did not complete TMS testing at the POST60 time point following PASACTIVE due to time constraints and one participant who did not complete peripheral nerve stimulation for any time point during the PASREST session. Two participants did not complete the PASCONTROL condition and were lost to follow-up. These data points were not available for the corresponding analyses resulting in 13 complete data sets for analyses. Motor behavioral testing was completed for all participants at all within-session time points for both PASACTIVE and PASREST conditions and for all but two participants who did not complete the PASCONTROL condition. All corticomotor excitability and motor skill data met assumptions of normality and homogeneity of variance., When testing the effects of PAS condition on 1 mV MEP amplitude change over time, we did not observe a condition-by-time interaction (F(4,14) = 1.12, p = 0.36) or main effects of PAS condition (F(2,14) = 1.17, p = 0.33) or time (F(2,14) = 1.59, p = 0.21; Figure 2). Similarly, there was no interaction effect (F(4,14) = 1.39, p = 0.24) or main effects of time (F(2,14) = 0.01, p = 0.99) or condition (F(2,14) = 0.93, p = 0.41) on relative change in ICF (Figure 3A). For SICI measures, analyses revealed a main effect of condition (F(2,14) = 3.34, p = 0.048), with lower SICI (ratios closer to 1) observed across POST assessment time points following PASACTIVE compared to PASREST and PASCONTROL (Figure 3B). We did not observe a significant interaction (F(4,14) = 0.54, p = 0.71) or main effect of time (F(2,14) = 1.6 p = 0.24). For change in SAI, there was no interaction (F(4,14) = 1.76, p = 0.16) nor a main effect of condition (F(2,14) = 0.24, p = 0.79) or time (F(2,14) = 0.19, p = 0.83) on change in SAI (Figure 3C)., The primary findings of this study reveal that the state of the motor system during a facilitatory PAS protocol may influence intracortical excitability. Further, results suggest that facilitatory PAS may enhance motor learning retention in able-bodied individuals but does not appear to be influenced by an active vs. resting motor state during PAS. Maintaining an active muscle contraction during PAS did not result in a change in general corticomotor excitability, but there was a significant reduction in SICI following PASACTIVE that was not observed following PASREST or PASCONTROL. Both PASACTIVE and PASREST showed greater but comparable sequence-specific motor skill learning retention compared to PASCONTROL. These findings suggest that manipulating motor state during PAS has the potential to target intracortical circuits in the M1 but without exerting a measureable effect on motor behavior., In the current study, maintaining an active motor state during the PAS protocol had a differential effect on intracortical inhibitory mechanisms, as we observed lower SICI following the PASACTIVE condition. We did not observe this effect on SICI following PASCONTROL or PASREST,which is consistent with results reported by others following a facilitatory PAS protocol with the muscle at rest (Stefan et al., 2002; Sale et al., 2007; Elahi et al., 2012). Our results suggest that producing a voluntary contraction during a facilitatory PAS protocol could have greater effects on intracortical inhibitory circuits than on changes in the excitability of facilitatory circuits, as no changes were observed in ICF. Volitional muscle contraction might have enhanced the efficiency by which proprioceptive afferent input is transmitted to the cortex (Kunesch et al., 1995). Application of the PAS protocol during this active motor state could have potentially strengthened synaptic connectivity of the projections of proprioceptive afferents relayed through area 3a to inhibitory intracortical neurons within M1 that contribute to SICI (Porter et al., 1990; Sailer et al., 2002). The fact that the significantly lower SICI was observed following PASACTIVE did not translate to robust enhancement of general corticomotor excitability may be consistent with the notion that PAS-induced corticomotor excitability could have been blunted by performing the SRTT prior to PAS. While preventing LTP, motor skill learning tasks performed prior to noninvasive brain stimulation protocols can enhance LTD-like mechanisms, and thus could have contributed to lower SICI following PASACTIVE (Rioult-Pedotti et al., 2000; Ziemann et al., 2004). This LTD-like response may be specific to horizontal cortical connections strengthened by enhanced activity of proprioceptive afferents during the active motor contraction maintained under the PASACTIVE condition. Previous studies have reported that peripheral nerve stimulation coupled with volitional contraction of muscles innervated by the stimulated nerve produced changes in corticomotor excitability to that muscle (Khaslavskaia and Sinkjaer, 2005; Yamaguchi et al., 2012) and increased the sensitivity between neural projections of the contralateral S1 and M1 (Gandolla et al., 2014). However, interactions between the peripheral nerve stimulation, volitional muscle contraction and motor cortical stimulation all likely contributed to differences in SICI following PASACTIVE as no such modulations were observed with peripheral nerve stimulation and volitional muscle contraction alone during the PASCONTROL condition. These findings suggest differential mechanistic corticomodulatory effects induced by muscle contraction during facilitatory PAS that could be important to consider when using such protocols in neurologic patient populations where abnormal activity of intracortical neural networks may be present., Our findings suggest that an active motor state within the targeted muscle may attenuate the immediate effects of a facilitatory PAS protocol on increased general corticomotor excitability. Immediately following the PAS protocol at the POST0 time point, MEP amplitude increased 50% in the PASREST condition and less than 6% in the PASACTIVE and PASCONTROL conditions (Figure 2A), though no conditions produced a statistically significant change from baseline MEP amplitude. These results are in contrast those of Kujirai et al. (2006), who found that producing a small contraction in the targeted muscle enhanced the immediate PAS-induced increase in general corticomotor excitability as well as intracortical facilitation measures. Differences in results may be explained by differences in study protocols, as Kujirai et al. (2006) applied TMS at a subthreshold intensity and in an anterior-posterior direction, which preferentially targets indirect synaptic outputs. Interestingly, we did not observe a significant increase in MEP amplitude following either active or resting PAS conditions. These findings are inconsistent with some previous studies that found increased MEP amplitudes for up to 30 min following a PAS25 protocol (Wolters et al., 2003; Kujirai et al., 2006; Player et al., 2012). High levels of inter-individual variability in PAS-induced modulation of M1 excitability, particularly in the PASREST and PASACTIVE conditions likely contributed to insignificant group MEP changes, which has been reported previously (Müller-Dahlhaus et al., 2008). As previously mentioned, the typically observed increase in general corticomotor excitability could have been attenuated by the motor skill learning task prior to PAS and repeated exposure to the task throughout the session, which can diminish LTP-like neuroplasticity (Rioult-Pedotti et al., 2000; Ziemann et al., 2004). Both animal and human studies have shown that motor skill learning prevented LTP typically induced by facilitatory noninvasive brain stimulation protocols, even though LTD was enhanced (Rioult-Pedotti et al., 2000; Ziemann et al., 2004). Additionally, genetic factors shown to influence LTP-like cortical plasticity and motor learning could have contributed to the high inter-individual subject variability and reduced effect sizes in corticomotor response to PAS observed in the present study (Kleim et al., 2006; Di Lazzaro et al., 2015; Morin-Moncet et al., 2018). Differences in results could also be explained, in part, by the customization of the interstimulus interval used in the present study (PASN20 + 5) compared to standard intervals commonly used (e.g., PAS25; Wolters et al., 2003; Kujirai et al., 2006; Player et al., 2012). Customization of the interstimulus interval using each individual’s N20 latency during PAS was expected to increase the likelihood of coincident timing of inputs in M1 resulting in larger LTP-like increases in corticomotor excitability. However, it is not clear that customizing the ISI using N20 latencies will increase PAS-induced modulatory effects (Hamada et al., 2012). The N20 response is primarily a reflection of cutaneous afferents of area 3b which do not have strong projections to M1 and are not engaged to a significant degree by muscle spindle afferents believed to primarily contribute to PAS-induced increases in corticomotor excitability (Carson and Kennedy, 2013). Regardless, the ISI for each participant was within the range of ISI values for PAS protocols used in previous studies that showed significant LTP-like plasticity Future studies examining the importance of optimizing the ISI during PAS and the effect of motor skill exposure on PAS-induced changes in corticomotor and intracortical excitability will further refine the interpretation of the current findings. Additionally, findings of this study and others warrant future research investigating potential neurobiological predictors of response to noninvasive brain stimulation interventions such as PAS., General motor performance on the SRTT was improved significantly directly following PAS completion for each condition; however, sequence-specific skill showed a reduction in performance immediately after each PAS condition. As anticipated, across post-PAS assessments, there was a significant improvement in SRTT performance for both random and repeated sequences. Given the repeated task exposure at each time point, motor skill performance improvement is not surprising. There was no difference in immediate motor skill performance behavior between PAS conditions; thus, in agreement with previous findings (Lopez-Alonso et al., 2018), PAS probably does not uniquely affect immediate motor performance within a session. Though these findings may contrast those of Jung and Ziemann (2009), where improvements in rapid thumb flexion movements following PAS were observed. These differences between findings may be due to differences in motor performance assessment (ballistic finger movement vs. skilled sequential motor performance). Thus, the effect of PAS on motor performance may depend to some extent on the characteristics of the task employed and how motor skill performance is evaluated. Interestingly, sequence-specific skill retention was preferentially enhanced following PASREST with a trend towards enhancement following PASACTIVE. In contrast, skill performance was significantly lower at retention following PASCONTROL. These findings contrast with those of Lopez-Alonso et al. (2018) who found no differences in motor performance on an isometric pinch force tracking task 1 week following PAS performed at rest compared to a sham condition. Differences between these findings and results of a present study could also be explained by differences in the attributes between motor tasks and/or the neural substrates involved in each task. Thus, taken together, findings support the notion that PAS may differentially affect distinct neural pathways involved in learning motor skills with different task characteristics. Our current findings together with previous literature on PAS-induced effects on different aspects of motor performance and learning could offer valuable information for rehabilitation interventions targeting different aspects of motor coordination and control., Despite no preferential enhancement of within-session motor performance, PAS may target and promote salient mechanisms underlying sequence-specific motor skill learning. Although intracortical inhibition was lower following PASACTIVE, changes in corticomotor excitability measures likely do not primarily contribute to greater motor skill retention following both PASACTIVE and PASREST, as these changes in corticomotor measures were not observed in both PAS conditions. Few studies have investigated the immediate effect of PAS on motor learning or performance (Player et al., 2012; Lopez-Alonso et al., 2018) and, to our knowledge, this study is the first to investigate the effect of motor state during PAS on delayed motor skill retention. PAS may have enhanced experience-dependent neuroplasticity resulting in improved motor retention that was not captured by TMS assessments of M1 cortical excitability. The fact that significant modulation of general corticomotor excitability was not demonstrated for both PASREST and PASACTIVE conditions implies that other neural mechanisms either within or outside M1 may underpin enhanced motor skill retention following PAS regardless of motor state. Quantification of neurophysiologic changes following PAS using functional, structural and/or metabolic neuroimaging approaches may identify and characterize PAS-induced neuroplastic mechanisms underlying enhanced skill retention observed in the current study. Future studies should confirm these findings and further evaluate the capacity for PAS-induced neuroplasticity to enhance the effects of motor skill training on skill performance and learning in able-bodied individuals and patients with neurologic diagnoses., Several limitations could influence the interpretation of the observed results. High inter-individual variability in response to PAS for each protocol was observed, reducing statistical power in a relatively small participant cohort. Evaluation of individual response profiles may provide additional information to guide future PAS interventions. Future studies could incorporate an inhibitory PAS condition to evaluate the effects of PAS on cortical excitability and motor skill learning. Though the SRTT is a valid and reliable motor task for detecting changes in sequence specific motor performance (Cohen et al., 2005), the task was not specific to the targeted muscle during PAS. However, the reduced spatial anatomical selectivity of suprathreshold TMS combined with overlap in digit representations in M1 reduces the likely importance of this limitation. The small sample size and thus the preliminary nature of the results warrants future studies to explore further the effect of PAS on motor skill retention and its relationship to changes in neurophysiologic measures. Due to the time constraints and number of measures during the session, corticomotor assessments of the M1 ipsilateral to the target muscle were not performed. Kennedy and Carson (2008) found that contraction of the muscle homologous to the targeted muscle in the contralateral limb could produce differential PAS-induced effects within the contralateral limb. Investigating potential corticomotor changes in the ipsilateral hemisphere following PAS could provide useful and important information in future studies. The present study controlled for possible changes at the neuromuscular junction in response to the intervention by normalizing all MEP data to the Mmax; however, we did not measure spinal or subcortical mechanisms. Modulation of MEP amplitude observed in the present study could be attributed to differences in interactions with local subcortical or spinal circuits rather than to cortical mechanisms. Future studies are required to advance our understanding of the mechanisms underlying the neuromodulator effects of PAS-based interventions in both health and disease., When performed during an active motor state, PAS can transiently reduce intracortical inhibition, though this reduction does not appear to preferentially augment motor skill performance or learning in able-bodied individuals. Irrespective of the state of the motor system, facilitatory PAS increased sequence-specific motor learning suggesting PAS could offer a neuromodulatory tool to enhance response to skill training and/or motor rehabilitation. Current findings may inform the development of future PAS approaches targeting atypical corticomotor and intracortical excitability to augment therapeutic response in neurologic patient populations to improve motor function and reduce disability., JP: data collection, data processing/analysis, statistical analysis, original manuscript drafting, manuscript editing. AH and WG: data collection, data processing, manuscript revision. SW: project conception, research design, manuscript revision. MB: project conception, research design, data collection, manuscript revision., This work was supported in part by the American Heart Association (AHA00035638) and the National Institutes of Health (NIH K12HD055931 and U10NS086607-06)., The authors declare that the research was conducted in the absence of any commercial or financial relationships that could be construed as a potential conflict of interest., We would like to acknowledge Aaron Knott, Patrick O’Shea, Eric Oetter, and Kendall Wilde for their assistance with data collection and participants’ recruitment.'"
      ]
     },
     "execution_count": 114,
     "metadata": {},
     "output_type": "execute_result"
    }
   ],
   "source": [
    "cl2"
   ]
  },
  {
   "cell_type": "markdown",
   "id": "b73714c2",
   "metadata": {},
   "source": [
    "### 3) Involving OpenAI\n",
    "Here we explore the performance of various OpenAI models for summarizing (for now).\n",
    "\n",
    "Notes:\n",
    "1) Include more control parameters for user e.g. temperature.\n",
    "2) Enhance prompt"
   ]
  },
  {
   "cell_type": "markdown",
   "id": "d0270832",
   "metadata": {},
   "source": [
    "#### A) \"text-davinci-003\""
   ]
  },
  {
   "cell_type": "code",
   "execution_count": 77,
   "id": "1c4794be",
   "metadata": {},
   "outputs": [],
   "source": [
    "#References: \n",
    "#1) Tutorial of use: https://www.geeksforgeeks.org/how-to-use-chatgpt-api-in-python/\n",
    "#2) OpenAI API Documentation: https://platform.openai.com/docs/api-reference\n",
    "\n",
    "class OpenAI_Davinci:\n",
    "    \n",
    "    def __init__(self, api_key, text, token_limit):\n",
    "        self.api_key = api_key\n",
    "        self.text = text\n",
    "        self.token_limit = int(token_limit)\n",
    "        \n",
    "    def generate_response(self):\n",
    "        \n",
    "        openai.api_key = self.api_key\n",
    "        prompt = f'''You will summarize scientific text. You need to follow these rules:\n",
    "        1) Focus on results and conclusions.\n",
    "        2) Complete all your sentences.\n",
    "        3) Provide statistical information with context if contained in the text.\n",
    "        Summarize the following text in words: '''\n",
    "        #text = self.text  \n",
    "        \n",
    "        if self.text:\n",
    "            chat = openai.Completion.create(\n",
    "                model=\"text-davinci-003\",\n",
    "                prompt=prompt+self.text,\n",
    "                temperature=0.0,\n",
    "                max_tokens=self.token_limit)\n",
    "            \n",
    "            response = chat.choices[0].text\n",
    "            return response\n",
    "        else:\n",
    "            print(\"No message provided. Please provide a message to generate a response.\")"
   ]
  },
  {
   "cell_type": "code",
   "execution_count": 78,
   "id": "d27a257d",
   "metadata": {},
   "outputs": [],
   "source": [
    "a = OpenAI_Davinci(api_key=OPENAI_API_KEY, text=cl, token_limit=150)\n"
   ]
  },
  {
   "cell_type": "code",
   "execution_count": 79,
   "id": "5451cf7a",
   "metadata": {},
   "outputs": [],
   "source": [
    "reply = a.generate_response()"
   ]
  },
  {
   "cell_type": "code",
   "execution_count": 80,
   "id": "f926683b",
   "metadata": {},
   "outputs": [
    {
     "data": {
      "text/plain": [
       "'\\n\\nBeginning with the theoretical foundations of cybernetics and information theory by Wiener (1948) and Shannon (1948), the field of theoretical neuroscience has developed in the direction of neural information processing. This has led to the invention of many new concepts in the areas of control, pattern recognition, sensory and motor physiology, neurology, and brain research in general. An example is the idea of the “receptive field” of neurons in the visual system and of edge or line detectors, called “simple cells”, which was substantiated by the Nobel prize winning research of the neurophysiologists Hubel and Wiesel (e.g., Hubel and Wiesel, 1968; Hubel et al., 1977'"
      ]
     },
     "execution_count": 80,
     "metadata": {},
     "output_type": "execute_result"
    }
   ],
   "source": [
    "reply"
   ]
  },
  {
   "cell_type": "markdown",
   "id": "834e9b5e",
   "metadata": {},
   "source": [
    "#### B) \"gpt-3.5-turbo\""
   ]
  },
  {
   "cell_type": "code",
   "execution_count": 105,
   "id": "18f95be9",
   "metadata": {},
   "outputs": [],
   "source": [
    "class OpenAI_GPT_Turbo:\n",
    "    \n",
    "    def __init__(self, api_key, text, token_limit):\n",
    "        self.api_key = api_key\n",
    "        self.text = text\n",
    "        self.token_limit = int(token_limit)\n",
    "        \n",
    "    def generate_response(self):\n",
    "        \n",
    "        openai.api_key = self.api_key\n",
    "        \n",
    "        prompt = '''You will summarize scientific text. You need to follow these rules:\n",
    "        1) Focus on results and conclusions.\n",
    "        2) Complete all your sentences.\n",
    "        3) Provide statistical information with context if contained in the text.'''\n",
    "        \n",
    "        \n",
    "        text = \"Summarize the following text: \"+self.text  \n",
    "        \n",
    "        if text:\n",
    "            chat = openai.ChatCompletion.create(\n",
    "                model=\"gpt-3.5-turbo\",\n",
    "                messages=[\n",
    "                {\"role\": \"system\", \n",
    "                 \"content\": prompt},\n",
    "                {\"role\": \"user\", \n",
    "                 \"content\": text}],\n",
    "                temperature=0.0,\n",
    "                max_tokens=self.token_limit)\n",
    "            \n",
    "            response = chat.choices[0].message.content\n",
    "            return response\n",
    "        else:\n",
    "            print(\"No message provided. Please provide a message to generate a response.\")"
   ]
  },
  {
   "cell_type": "code",
   "execution_count": 106,
   "id": "56781f25",
   "metadata": {},
   "outputs": [],
   "source": [
    "b = OpenAI_GPT_Turbo(api_key=OPENAI_API_KEY, text=cl, token_limit=150)\n"
   ]
  },
  {
   "cell_type": "code",
   "execution_count": 107,
   "id": "763c9ada",
   "metadata": {},
   "outputs": [],
   "source": [
    "reply_b = b.generate_response()"
   ]
  },
  {
   "cell_type": "code",
   "execution_count": 108,
   "id": "d9a96127",
   "metadata": {},
   "outputs": [
    {
     "data": {
      "text/plain": [
       "'The field of theoretical neuroscience developed from the theoretical foundations of cybernetics and information theory. It has been influenced by both technological developments and the understanding of biological systems. The field has split into technology-oriented research and neuroscience-oriented research. Technological advancements in learning systems have become more sophisticated, but have lost some appeal to neuroscience. On the other hand, neuroscience has made advancements in neural modeling, particularly in the spatio-temporal integration of activity in dendrites and synaptic transmission. Computational neuroscience has been established as a discipline, using information theory to evaluate single neuron responses and neural networks. Information theory has also been used in neurocomputing and learning theory. However, there is a lack of integration in current computational neuroscience when it comes to complex cognitive tasks.'"
      ]
     },
     "execution_count": 108,
     "metadata": {},
     "output_type": "execute_result"
    }
   ],
   "source": [
    "reply_b"
   ]
  },
  {
   "cell_type": "code",
   "execution_count": 109,
   "id": "ef2c302c",
   "metadata": {},
   "outputs": [],
   "source": [
    "c = OpenAI_GPT_Turbo(api_key=OPENAI_API_KEY, text=cl1, token_limit=150)\n"
   ]
  },
  {
   "cell_type": "code",
   "execution_count": 110,
   "id": "4a71a240",
   "metadata": {},
   "outputs": [],
   "source": [
    "reply_c = c.generate_response()"
   ]
  },
  {
   "cell_type": "code",
   "execution_count": 111,
   "id": "502819be",
   "metadata": {},
   "outputs": [
    {
     "data": {
      "text/plain": [
       "'The text discusses the field of computational psychiatry (CPSY) and the need for better integration between neuroscience, psychiatry, and computational models. The authors introduce a database called CPSYMAP, which organizes and visualizes research papers in the field of CPSY. The database allows users to search, register, and obtain an overview of CPSY research. The authors describe the different perspectives of neuroscientific, psychiatric, and computational methods and how they are implemented in the database. They also provide preliminary analysis of the registered papers in the database, highlighting the distribution of papers based on cognitive functions, mental disorders, and computational frameworks. The authors acknowledge the limitations of the database, including the limited number of registered papers and potential credibility issues with tagging.'"
      ]
     },
     "execution_count": 111,
     "metadata": {},
     "output_type": "execute_result"
    }
   ],
   "source": [
    "reply_c"
   ]
  },
  {
   "cell_type": "code",
   "execution_count": 115,
   "id": "12315a48",
   "metadata": {},
   "outputs": [],
   "source": [
    "d = OpenAI_GPT_Turbo(api_key=OPENAI_API_KEY, text=cl2, token_limit=150)"
   ]
  },
  {
   "cell_type": "code",
   "execution_count": 116,
   "id": "508b304b",
   "metadata": {},
   "outputs": [
    {
     "ename": "InvalidRequestError",
     "evalue": "This model's maximum context length is 4097 tokens. However, your messages resulted in 8137 tokens. Please reduce the length of the messages.",
     "output_type": "error",
     "traceback": [
      "\u001b[1;31m---------------------------------------------------------------------------\u001b[0m",
      "\u001b[1;31mInvalidRequestError\u001b[0m                       Traceback (most recent call last)",
      "\u001b[1;32m~\\AppData\\Local\\Temp\\ipykernel_9440\\798783785.py\u001b[0m in \u001b[0;36m<module>\u001b[1;34m\u001b[0m\n\u001b[1;32m----> 1\u001b[1;33m \u001b[0mreply_d\u001b[0m \u001b[1;33m=\u001b[0m \u001b[0md\u001b[0m\u001b[1;33m.\u001b[0m\u001b[0mgenerate_response\u001b[0m\u001b[1;33m(\u001b[0m\u001b[1;33m)\u001b[0m\u001b[1;33m\u001b[0m\u001b[1;33m\u001b[0m\u001b[0m\n\u001b[0m",
      "\u001b[1;32m~\\AppData\\Local\\Temp\\ipykernel_9440\\4201809146.py\u001b[0m in \u001b[0;36mgenerate_response\u001b[1;34m(self)\u001b[0m\n\u001b[0;32m     22\u001b[0m \u001b[1;33m\u001b[0m\u001b[0m\n\u001b[0;32m     23\u001b[0m         \u001b[1;32mif\u001b[0m \u001b[0mtext\u001b[0m\u001b[1;33m:\u001b[0m\u001b[1;33m\u001b[0m\u001b[1;33m\u001b[0m\u001b[0m\n\u001b[1;32m---> 24\u001b[1;33m             chat = openai.ChatCompletion.create(\n\u001b[0m\u001b[0;32m     25\u001b[0m                 \u001b[0mmodel\u001b[0m\u001b[1;33m=\u001b[0m\u001b[1;34m\"gpt-3.5-turbo\"\u001b[0m\u001b[1;33m,\u001b[0m\u001b[1;33m\u001b[0m\u001b[1;33m\u001b[0m\u001b[0m\n\u001b[0;32m     26\u001b[0m                 messages=[\n",
      "\u001b[1;32m~\\anaconda3\\lib\\site-packages\\openai\\api_resources\\chat_completion.py\u001b[0m in \u001b[0;36mcreate\u001b[1;34m(cls, *args, **kwargs)\u001b[0m\n\u001b[0;32m     23\u001b[0m         \u001b[1;32mwhile\u001b[0m \u001b[1;32mTrue\u001b[0m\u001b[1;33m:\u001b[0m\u001b[1;33m\u001b[0m\u001b[1;33m\u001b[0m\u001b[0m\n\u001b[0;32m     24\u001b[0m             \u001b[1;32mtry\u001b[0m\u001b[1;33m:\u001b[0m\u001b[1;33m\u001b[0m\u001b[1;33m\u001b[0m\u001b[0m\n\u001b[1;32m---> 25\u001b[1;33m                 \u001b[1;32mreturn\u001b[0m \u001b[0msuper\u001b[0m\u001b[1;33m(\u001b[0m\u001b[1;33m)\u001b[0m\u001b[1;33m.\u001b[0m\u001b[0mcreate\u001b[0m\u001b[1;33m(\u001b[0m\u001b[1;33m*\u001b[0m\u001b[0margs\u001b[0m\u001b[1;33m,\u001b[0m \u001b[1;33m**\u001b[0m\u001b[0mkwargs\u001b[0m\u001b[1;33m)\u001b[0m\u001b[1;33m\u001b[0m\u001b[1;33m\u001b[0m\u001b[0m\n\u001b[0m\u001b[0;32m     26\u001b[0m             \u001b[1;32mexcept\u001b[0m \u001b[0mTryAgain\u001b[0m \u001b[1;32mas\u001b[0m \u001b[0me\u001b[0m\u001b[1;33m:\u001b[0m\u001b[1;33m\u001b[0m\u001b[1;33m\u001b[0m\u001b[0m\n\u001b[0;32m     27\u001b[0m                 \u001b[1;32mif\u001b[0m \u001b[0mtimeout\u001b[0m \u001b[1;32mis\u001b[0m \u001b[1;32mnot\u001b[0m \u001b[1;32mNone\u001b[0m \u001b[1;32mand\u001b[0m \u001b[0mtime\u001b[0m\u001b[1;33m.\u001b[0m\u001b[0mtime\u001b[0m\u001b[1;33m(\u001b[0m\u001b[1;33m)\u001b[0m \u001b[1;33m>\u001b[0m \u001b[0mstart\u001b[0m \u001b[1;33m+\u001b[0m \u001b[0mtimeout\u001b[0m\u001b[1;33m:\u001b[0m\u001b[1;33m\u001b[0m\u001b[1;33m\u001b[0m\u001b[0m\n",
      "\u001b[1;32m~\\anaconda3\\lib\\site-packages\\openai\\api_resources\\abstract\\engine_api_resource.py\u001b[0m in \u001b[0;36mcreate\u001b[1;34m(cls, api_key, api_base, api_type, request_id, api_version, organization, **params)\u001b[0m\n\u001b[0;32m    151\u001b[0m         )\n\u001b[0;32m    152\u001b[0m \u001b[1;33m\u001b[0m\u001b[0m\n\u001b[1;32m--> 153\u001b[1;33m         response, _, api_key = requestor.request(\n\u001b[0m\u001b[0;32m    154\u001b[0m             \u001b[1;34m\"post\"\u001b[0m\u001b[1;33m,\u001b[0m\u001b[1;33m\u001b[0m\u001b[1;33m\u001b[0m\u001b[0m\n\u001b[0;32m    155\u001b[0m             \u001b[0murl\u001b[0m\u001b[1;33m,\u001b[0m\u001b[1;33m\u001b[0m\u001b[1;33m\u001b[0m\u001b[0m\n",
      "\u001b[1;32m~\\anaconda3\\lib\\site-packages\\openai\\api_requestor.py\u001b[0m in \u001b[0;36mrequest\u001b[1;34m(self, method, url, params, headers, files, stream, request_id, request_timeout)\u001b[0m\n\u001b[0;32m    228\u001b[0m             \u001b[0mrequest_timeout\u001b[0m\u001b[1;33m=\u001b[0m\u001b[0mrequest_timeout\u001b[0m\u001b[1;33m,\u001b[0m\u001b[1;33m\u001b[0m\u001b[1;33m\u001b[0m\u001b[0m\n\u001b[0;32m    229\u001b[0m         )\n\u001b[1;32m--> 230\u001b[1;33m         \u001b[0mresp\u001b[0m\u001b[1;33m,\u001b[0m \u001b[0mgot_stream\u001b[0m \u001b[1;33m=\u001b[0m \u001b[0mself\u001b[0m\u001b[1;33m.\u001b[0m\u001b[0m_interpret_response\u001b[0m\u001b[1;33m(\u001b[0m\u001b[0mresult\u001b[0m\u001b[1;33m,\u001b[0m \u001b[0mstream\u001b[0m\u001b[1;33m)\u001b[0m\u001b[1;33m\u001b[0m\u001b[1;33m\u001b[0m\u001b[0m\n\u001b[0m\u001b[0;32m    231\u001b[0m         \u001b[1;32mreturn\u001b[0m \u001b[0mresp\u001b[0m\u001b[1;33m,\u001b[0m \u001b[0mgot_stream\u001b[0m\u001b[1;33m,\u001b[0m \u001b[0mself\u001b[0m\u001b[1;33m.\u001b[0m\u001b[0mapi_key\u001b[0m\u001b[1;33m\u001b[0m\u001b[1;33m\u001b[0m\u001b[0m\n\u001b[0;32m    232\u001b[0m \u001b[1;33m\u001b[0m\u001b[0m\n",
      "\u001b[1;32m~\\anaconda3\\lib\\site-packages\\openai\\api_requestor.py\u001b[0m in \u001b[0;36m_interpret_response\u001b[1;34m(self, result, stream)\u001b[0m\n\u001b[0;32m    622\u001b[0m         \u001b[1;32melse\u001b[0m\u001b[1;33m:\u001b[0m\u001b[1;33m\u001b[0m\u001b[1;33m\u001b[0m\u001b[0m\n\u001b[0;32m    623\u001b[0m             return (\n\u001b[1;32m--> 624\u001b[1;33m                 self._interpret_response_line(\n\u001b[0m\u001b[0;32m    625\u001b[0m                     \u001b[0mresult\u001b[0m\u001b[1;33m.\u001b[0m\u001b[0mcontent\u001b[0m\u001b[1;33m.\u001b[0m\u001b[0mdecode\u001b[0m\u001b[1;33m(\u001b[0m\u001b[1;34m\"utf-8\"\u001b[0m\u001b[1;33m)\u001b[0m\u001b[1;33m,\u001b[0m\u001b[1;33m\u001b[0m\u001b[1;33m\u001b[0m\u001b[0m\n\u001b[0;32m    626\u001b[0m                     \u001b[0mresult\u001b[0m\u001b[1;33m.\u001b[0m\u001b[0mstatus_code\u001b[0m\u001b[1;33m,\u001b[0m\u001b[1;33m\u001b[0m\u001b[1;33m\u001b[0m\u001b[0m\n",
      "\u001b[1;32m~\\anaconda3\\lib\\site-packages\\openai\\api_requestor.py\u001b[0m in \u001b[0;36m_interpret_response_line\u001b[1;34m(self, rbody, rcode, rheaders, stream)\u001b[0m\n\u001b[0;32m    685\u001b[0m         \u001b[0mstream_error\u001b[0m \u001b[1;33m=\u001b[0m \u001b[0mstream\u001b[0m \u001b[1;32mand\u001b[0m \u001b[1;34m\"error\"\u001b[0m \u001b[1;32min\u001b[0m \u001b[0mresp\u001b[0m\u001b[1;33m.\u001b[0m\u001b[0mdata\u001b[0m\u001b[1;33m\u001b[0m\u001b[1;33m\u001b[0m\u001b[0m\n\u001b[0;32m    686\u001b[0m         \u001b[1;32mif\u001b[0m \u001b[0mstream_error\u001b[0m \u001b[1;32mor\u001b[0m \u001b[1;32mnot\u001b[0m \u001b[1;36m200\u001b[0m \u001b[1;33m<=\u001b[0m \u001b[0mrcode\u001b[0m \u001b[1;33m<\u001b[0m \u001b[1;36m300\u001b[0m\u001b[1;33m:\u001b[0m\u001b[1;33m\u001b[0m\u001b[1;33m\u001b[0m\u001b[0m\n\u001b[1;32m--> 687\u001b[1;33m             raise self.handle_error_response(\n\u001b[0m\u001b[0;32m    688\u001b[0m                 \u001b[0mrbody\u001b[0m\u001b[1;33m,\u001b[0m \u001b[0mrcode\u001b[0m\u001b[1;33m,\u001b[0m \u001b[0mresp\u001b[0m\u001b[1;33m.\u001b[0m\u001b[0mdata\u001b[0m\u001b[1;33m,\u001b[0m \u001b[0mrheaders\u001b[0m\u001b[1;33m,\u001b[0m \u001b[0mstream_error\u001b[0m\u001b[1;33m=\u001b[0m\u001b[0mstream_error\u001b[0m\u001b[1;33m\u001b[0m\u001b[1;33m\u001b[0m\u001b[0m\n\u001b[0;32m    689\u001b[0m             )\n",
      "\u001b[1;31mInvalidRequestError\u001b[0m: This model's maximum context length is 4097 tokens. However, your messages resulted in 8137 tokens. Please reduce the length of the messages."
     ]
    }
   ],
   "source": [
    "reply_d = d.generate_response()"
   ]
  },
  {
   "cell_type": "markdown",
   "id": "d7d1b542",
   "metadata": {},
   "source": [
    "#### Overcoming Token Limit Resources:\n",
    "1) https://uxplanet.org/how-to-overcome-gpt-token-limit-721c30a18d55"
   ]
  },
  {
   "cell_type": "markdown",
   "id": "7da5e800",
   "metadata": {},
   "source": [
    "### 4) Comparing Models\n",
    "\"text-davinci-003\" seems to copy the text whilst \"gpt-3.5 turbo\" is giving a good summary. What about following the rules?"
   ]
  },
  {
   "cell_type": "code",
   "execution_count": null,
   "id": "5f2e1eb8",
   "metadata": {},
   "outputs": [],
   "source": []
  }
 ],
 "metadata": {
  "kernelspec": {
   "display_name": "Python 3 (ipykernel)",
   "language": "python",
   "name": "python3"
  },
  "language_info": {
   "codemirror_mode": {
    "name": "ipython",
    "version": 3
   },
   "file_extension": ".py",
   "mimetype": "text/x-python",
   "name": "python",
   "nbconvert_exporter": "python",
   "pygments_lexer": "ipython3",
   "version": "3.9.13"
  }
 },
 "nbformat": 4,
 "nbformat_minor": 5
}
